{
 "cells": [
  {
   "cell_type": "code",
   "execution_count": null,
   "id": "8af9f7cc-9320-4d84-b76d-5da0ac90fa43",
   "metadata": {},
   "outputs": [],
   "source": []
  }
 ],
 "metadata": {
  "kernelspec": {
   "display_name": "",
   "name": ""
  },
  "language_info": {
   "name": ""
  }
 },
 "nbformat": 4,
 "nbformat_minor": 5
}
