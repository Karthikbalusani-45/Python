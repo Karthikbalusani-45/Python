{
 "cells": [
  {
   "cell_type": "code",
   "execution_count": null,
   "id": "6cdf8e32-1699-4594-b177-76b4c0b6fe49",
   "metadata": {},
   "outputs": [],
   "source": [
    "def calculate_square(n):\n",
    "    return n * n\n",
    "def main():\n",
    "    user_input = int(input(\"Please enter a positive integer: \"))\n",
    "    if user_input > 0:\n",
    "        result = calculate_square(user_input)\n",
    "        print(f\"The square of {user_input} is {result}.\")\n",
    "    else:\n",
    "        print(\"Please enter a positive integer.\")\n",
    "if __name__ == \"__main__\":\n",
    "    main()\n"
   ]
  }
 ],
 "metadata": {
  "kernelspec": {
   "display_name": "Python 3 (ipykernel)",
   "language": "python",
   "name": "python3"
  },
  "language_info": {
   "codemirror_mode": {
    "name": "ipython",
    "version": 3
   },
   "file_extension": ".py",
   "mimetype": "text/x-python",
   "name": "python",
   "nbconvert_exporter": "python",
   "pygments_lexer": "ipython3",
   "version": "3.12.7"
  }
 },
 "nbformat": 4,
 "nbformat_minor": 5
}
