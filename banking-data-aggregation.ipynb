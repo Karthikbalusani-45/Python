{
 "cells": [
  {
   "cell_type": "code",
   "execution_count": null,
   "id": "21b17972-50d5-4b8e-9f88-483b2be01c40",
   "metadata": {},
   "outputs": [],
   "source": []
  }
 ],
 "metadata": {
  "kernelspec": {
   "display_name": "",
   "name": ""
  },
  "language_info": {
   "name": ""
  }
 },
 "nbformat": 4,
 "nbformat_minor": 5
}
