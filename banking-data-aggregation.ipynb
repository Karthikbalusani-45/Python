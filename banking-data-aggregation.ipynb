{
 "cells": [
  {
   "cell_type": "code",
   "execution_count": 2,
   "id": "21b17972-50d5-4b8e-9f88-483b2be01c40",
   "metadata": {},
   "outputs": [
    {
     "name": "stdout",
     "output_type": "stream",
     "text": [
      "Grouped by Account_Type:\n",
      "        Account_Type  Total_Transaction_Amount  Average_Account_Balance\n",
      "0            Current                  15052.57              9893.404000\n",
      "1      Fixed Deposit                  14102.59              6120.380000\n",
      "2  Recurring Deposit                  15179.99              7627.283333\n",
      "3            Savings                   9781.44              9134.110000\n",
      "\n",
      "Grouped by Branch:\n",
      "     Branch  Total_Transactions  Average_Transaction_Amount\n",
      "0   Central                   8                 2942.338750\n",
      "1  Downtown                   3                 3188.703333\n",
      "2  Suburban                   5                 2773.278000\n",
      "3    Uptown                   4                 1786.345000\n"
     ]
    }
   ],
   "source": [
    "import pandas as pd\n",
    "from io import StringIO\n",
    "\n",
    "# Your data as a CSV string\n",
    "data = \"\"\"\n",
    "Date,Account_Type,Branch,Transaction_Type,Transaction_Amount,Account_Balance\n",
    "2023-01-19,Fixed Deposit,Central,Loan Payment,985.51,6839.59\n",
    "2023-01-16,Current,Uptown,Withdrawal,641.43,8908.39\n",
    "2023-01-10,Current,Uptown,Loan Payment,3363.85,12428.67\n",
    "2023-01-18,Savings,Uptown,Loan Payment,1914.6,5776.63\n",
    "2023-01-14,Recurring Deposit,Suburban,Loan Payment,2788.57,4779.04\n",
    "2023-01-06,Current,Suburban,Service Charge,4584.05,7635.47\n",
    "2023-01-04,Recurring Deposit,Central,Service Charge,1621.82,6465.79\n",
    "2023-01-09,Current,Central,Loan Payment,2346.72,10708.85\n",
    "2023-01-20,Recurring Deposit,Downtown,Service Charge,3899.98,12646.56\n",
    "2023-01-11,Fixed Deposit,Downtown,Deposit,1529.59,2592.16\n",
    "2023-01-13,Recurring Deposit,Central,Deposit,846.41,6443.14\n",
    "2023-01-08,Fixed Deposit,Suburban,Service Charge,1803.88,6560.58\n",
    "2023-01-15,Fixed Deposit,Uptown,Service Charge,1225.5,4224.47\n",
    "2023-01-05,Recurring Deposit,Central,Loan Payment,4683.64,6762.43\n",
    "2023-01-01,Fixed Deposit,Downtown,Withdrawal,4136.54,8175.08\n",
    "2023-01-03,Savings,Suburban,Service Charge,3350.32,12836.51\n",
    "2023-01-02,Fixed Deposit,Central,Deposit,4421.57,8330.4\n",
    "2023-01-07,Current,Central,Loan Payment,4116.52,9785.64\n",
    "2023-01-12,Recurring Deposit,Suburban,Service Charge,1339.57,8666.74\n",
    "2023-01-17,Savings,Central,Deposit,4516.52,8789.19\n",
    "\"\"\"\n",
    "\n",
    "# Use StringIO to simulate reading from a file\n",
    "data_df = pd.read_csv(StringIO(data))\n",
    "\n",
    "# Group by Account_Type and calculate the total sum of Transaction_Amount and average Account_Balance\n",
    "account_type_group = data_df.groupby('Account_Type').agg(\n",
    "    Total_Transaction_Amount=('Transaction_Amount', 'sum'),\n",
    "    Average_Account_Balance=('Account_Balance', 'mean')\n",
    ").reset_index()\n",
    "\n",
    "# Group by Branch and calculate the total number of transactions and average Transaction_Amount\n",
    "branch_group = data_df.groupby('Branch').agg(\n",
    "    Total_Transactions=('Transaction_Amount', 'size'),\n",
    "    Average_Transaction_Amount=('Transaction_Amount', 'mean')\n",
    ").reset_index()\n",
    "\n",
    "# Display results\n",
    "print(\"Grouped by Account_Type:\")\n",
    "print(account_type_group)\n",
    "\n",
    "print(\"\\nGrouped by Branch:\")\n",
    "print(branch_group)\n"
   ]
  },
  {
   "cell_type": "code",
   "execution_count": null,
   "id": "e61fa016-ba68-4ecc-8d3f-1f6e880d881c",
   "metadata": {},
   "outputs": [],
   "source": []
  }
 ],
 "metadata": {
  "kernelspec": {
   "display_name": "Python 3 (ipykernel)",
   "language": "python",
   "name": "python3"
  },
  "language_info": {
   "codemirror_mode": {
    "name": "ipython",
    "version": 3
   },
   "file_extension": ".py",
   "mimetype": "text/x-python",
   "name": "python",
   "nbconvert_exporter": "python",
   "pygments_lexer": "ipython3",
   "version": "3.12.7"
  }
 },
 "nbformat": 4,
 "nbformat_minor": 5
}
