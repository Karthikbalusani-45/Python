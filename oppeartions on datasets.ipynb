{
 "cells": [
  {
   "cell_type": "code",
   "execution_count": 5,
   "id": "0e520095-4445-40fd-b0e0-29debc18102c",
   "metadata": {},
   "outputs": [
    {
     "name": "stdout",
     "output_type": "stream",
     "text": [
      "         Date Product Region    Sales  Profit  Quantity\n",
      "0  2023-01-02  Tablet   East  1061.81  236.12         7\n",
      "1  2023-01-06  Laptop  North  1926.07  246.34         8\n",
      "2  2023-01-03  Tablet   East  1597.99  253.17         3\n",
      "3  2023-01-20  Tablet  North  1397.99  242.23         1\n",
      "4  2023-01-04  Laptop   West   734.03  140.36         4\n",
      "             Sales      Profit   Quantity\n",
      "count    20.000000   20.000000  20.000000\n",
      "mean   1186.553000  211.533000   5.050000\n",
      "std     461.528444   66.916251   2.543826\n",
      "min     530.880000   82.160000   1.000000\n",
      "25%     774.517500  166.515000   2.750000\n",
      "50%    1104.865000  214.670000   5.000000\n",
      "75%    1571.080000  248.047500   7.250000\n",
      "max    1954.860000  364.970000   9.000000\n"
     ]
    }
   ],
   "source": [
    "import pandas as pd\n",
    "from io import StringIO\n",
    "data = \"\"\"\n",
    "Date,Product,Region,Sales,Profit,Quantity\n",
    "2023-01-02,Tablet,East,1061.81,236.12,7\n",
    "2023-01-06,Laptop,North,1926.07,246.34,8\n",
    "2023-01-03,Tablet,East,1597.99,253.17,3\n",
    "2023-01-20,Tablet,North,1397.99,242.23,1\n",
    "2023-01-04,Laptop,West,734.03,140.36,4\n",
    "2023-01-17,Tablet,North,733.99,188.66,2\n",
    "2023-01-14,Keyboard,East,587.13,82.16,8\n",
    "2023-01-07,Smartphone,East,1799.26,364.97,4\n",
    "2023-01-11,Smartphone,West,1401.67,306.24,2\n",
    "2023-01-01,Laptop,North,1562.11,170.72,6\n",
    "2023-01-19,Monitor,North,530.88,117.59,6\n",
    "2023-01-12,Laptop,West,1954.86,262.16,4\n",
    "2023-01-09,Monitor,North,1748.66,197.62,6\n",
    "2023-01-10,Smartphone,North,818.51,237.19,2\n",
    "2023-01-08,Laptop,East,772.74,226.51,2\n",
    "2023-01-05,Keyboard,North,775.11,202.83,4\n",
    "2023-01-15,Tablet,North,956.36,153.90,8\n",
    "2023-01-18,Monitor,West,1287.13,153.86,7\n",
    "2023-01-13,Tablet,West,1147.92,271.88,9\n",
    "2023-01-16,Tablet,South,936.84,176.15,8\n",
    "\"\"\"\n",
    "data_df = pd.read_csv(StringIO(data))\n",
    "print(data_df.head())\n",
    "print(data_df.describe())\n"
   ]
  },
  {
   "cell_type": "code",
   "execution_count": 6,
   "id": "b2f6bc2d-9f87-4c76-abd5-08df4eae0b1e",
   "metadata": {},
   "outputs": [
    {
     "name": "stdout",
     "output_type": "stream",
     "text": [
      "Region\n",
      "East      5818.93\n",
      "North    10449.68\n",
      "South      936.84\n",
      "West      6525.61\n",
      "Name: Sales, dtype: float64\n"
     ]
    }
   ],
   "source": [
    "# Calculate the total sales for each region\n",
    "total_sales_by_region = data_df.groupby('Region')['Sales'].sum()\n",
    "print(total_sales_by_region)\n"
   ]
  },
  {
   "cell_type": "code",
   "execution_count": 7,
   "id": "efb6382b-51c7-4479-88f1-e7f593a98388",
   "metadata": {},
   "outputs": [
    {
     "name": "stdout",
     "output_type": "stream",
     "text": [
      "Most sold product: Tablet\n"
     ]
    }
   ],
   "source": [
    "# Find the most sold product based on quantity\n",
    "most_sold_product = data_df.groupby('Product')['Quantity'].sum().idxmax()\n",
    "print(f\"Most sold product: {most_sold_product}\")\n"
   ]
  },
  {
   "cell_type": "code",
   "execution_count": 4,
   "id": "defe1ef7-679b-499b-a58b-d5c751768724",
   "metadata": {},
   "outputs": [
    {
     "name": "stdout",
     "output_type": "stream",
     "text": [
      "Product\n",
      "Keyboard      20.080696\n",
      "Laptop        17.112734\n",
      "Monitor       15.134989\n",
      "Smartphone    23.703647\n",
      "Tablet        19.955758\n",
      "Name: Profit Margin, dtype: float64\n"
     ]
    }
   ],
   "source": [
    "# Calculate the profit margin for each product\n",
    "data_df['Profit Margin'] = (data_df['Profit'] / data_df['Sales']) * 100\n",
    "\n",
    "# Compute the average profit margin for each product\n",
    "avg_profit_margin_per_product = data_df.groupby('Product')['Profit Margin'].mean()\n",
    "print(avg_profit_margin_per_product)\n"
   ]
  },
  {
   "cell_type": "code",
   "execution_count": null,
   "id": "4a7c70e5-c6b2-47e6-8b0d-5dc8fb9c2983",
   "metadata": {},
   "outputs": [],
   "source": []
  }
 ],
 "metadata": {
  "kernelspec": {
   "display_name": "Python 3 (ipykernel)",
   "language": "python",
   "name": "python3"
  },
  "language_info": {
   "codemirror_mode": {
    "name": "ipython",
    "version": 3
   },
   "file_extension": ".py",
   "mimetype": "text/x-python",
   "name": "python",
   "nbconvert_exporter": "python",
   "pygments_lexer": "ipython3",
   "version": "3.12.7"
  }
 },
 "nbformat": 4,
 "nbformat_minor": 5
}
