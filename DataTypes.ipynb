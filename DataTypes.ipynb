{
 "cells": [
  {
   "cell_type": "code",
   "execution_count": 2,
   "id": "314211c0-2483-4192-af66-7060c4992543",
   "metadata": {},
   "outputs": [
    {
     "name": "stdout",
     "output_type": "stream",
     "text": [
      "Integer Variable: 55 Type: <class 'int'>\n",
      "Float Variable: 10.5 Type: <class 'float'>\n",
      "String Variable: Hello, World! Type: <class 'str'>\n",
      "Boolean Variable: True Type: <class 'bool'>\n"
     ]
    }
   ],
   "source": [
    "integer_var = 55\n",
    "float_var = 10.5\n",
    "string_var = \"Hello, World!\"\n",
    "boolean_var = True\n",
    "print(\"Integer Variable:\", integer_var, \"Type:\", type(integer_var))\n",
    "print(\"Float Variable:\", float_var, \"Type:\", type(float_var))\n",
    "print(\"String Variable:\", string_var, \"Type:\", type(string_var))\n",
    "print(\"Boolean Variable:\", boolean_var, \"Type:\", type(boolean_var))\n"
   ]
  },
  {
   "cell_type": "code",
   "execution_count": null,
   "id": "e87daa09-7e11-44b5-9430-c836b39899e8",
   "metadata": {},
   "outputs": [],
   "source": []
  }
 ],
 "metadata": {
  "kernelspec": {
   "display_name": "Python [conda env:base] *",
   "language": "python",
   "name": "conda-base-py"
  },
  "language_info": {
   "codemirror_mode": {
    "name": "ipython",
    "version": 3
   },
   "file_extension": ".py",
   "mimetype": "text/x-python",
   "name": "python",
   "nbconvert_exporter": "python",
   "pygments_lexer": "ipython3",
   "version": "3.12.7"
  }
 },
 "nbformat": 4,
 "nbformat_minor": 5
}
