{
 "cells": [
  {
   "cell_type": "code",
   "execution_count": null,
   "id": "db2385a5-3cc2-4f16-ac7a-afaa04b3913b",
   "metadata": {},
   "outputs": [],
   "source": []
  }
 ],
 "metadata": {
  "kernelspec": {
   "display_name": "",
   "name": ""
  },
  "language_info": {
   "name": ""
  }
 },
 "nbformat": 4,
 "nbformat_minor": 5
}
