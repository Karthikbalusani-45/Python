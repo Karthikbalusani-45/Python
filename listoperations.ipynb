{
 "cells": [
  {
   "cell_type": "code",
   "execution_count": 2,
   "id": "f052dc0f-9826-4f9c-a643-413f13f70fd9",
   "metadata": {},
   "outputs": [
    {
     "name": "stdout",
     "output_type": "stream",
     "text": [
      "even\n"
     ]
    }
   ],
   "source": [
    "num =  6\n",
    "if num %2 == 0:\n",
    "    print(\"even\")\n",
    "else:\n",
    "    print(\"odd\")"
   ]
  },
  {
   "cell_type": "code",
   "execution_count": 2,
   "id": "0ad0d2e1-ee38-4469-9632-e82e302d50fd",
   "metadata": {},
   "outputs": [
    {
     "name": "stdout",
     "output_type": "stream",
     "text": [
      "Positive\n"
     ]
    }
   ],
   "source": [
    "x = 10\n",
    "result = \"Positive\" if x > 0 else \"Negative\"\n",
    "print(result)"
   ]
  },
  {
   "cell_type": "code",
   "execution_count": 5,
   "id": "bbb156ae-0120-48f2-bb7d-97c2f9151129",
   "metadata": {},
   "outputs": [
    {
     "name": "stdin",
     "output_type": "stream",
     "text": [
      "Enter a number:  -5\n"
     ]
    },
    {
     "name": "stdout",
     "output_type": "stream",
     "text": [
      "Negative\n"
     ]
    }
   ],
   "source": [
    "num = int(input(\"Enter a number: \"))\n",
    "result = \"Positive\" if num > 0 else (\"Negative\" if num < 0 else \"Zero\")\n",
    "print(result)"
   ]
  },
  {
   "cell_type": "code",
   "execution_count": 7,
   "id": "bec582d8-6844-4857-911a-7c0eb942c583",
   "metadata": {},
   "outputs": [
    {
     "data": {
      "text/plain": [
       "[2, 4, 10, 14, 102, 48]"
      ]
     },
     "execution_count": 7,
     "metadata": {},
     "output_type": "execute_result"
    }
   ],
   "source": [
    "l = [1,2,5,7,51,24]\n",
    "[2*x for x in l]"
   ]
  },
  {
   "cell_type": "code",
   "execution_count": 8,
   "id": "70f6f36f-99c8-4226-b706-89c968d50614",
   "metadata": {},
   "outputs": [
    {
     "data": {
      "text/plain": [
       "[2, 24, 72]"
      ]
     },
     "execution_count": 8,
     "metadata": {},
     "output_type": "execute_result"
    }
   ],
   "source": [
    "l = [1,2,5,7,51,24,72,55]\n",
    "[x for x in l if x%2 == 0]"
   ]
  },
  {
   "cell_type": "code",
   "execution_count": 10,
   "id": "a41c984c-cf0e-4b67-b2d3-d7aca533a01d",
   "metadata": {},
   "outputs": [
    {
     "data": {
      "text/plain": [
       "[1, 5, 7, 51, 55]"
      ]
     },
     "execution_count": 10,
     "metadata": {},
     "output_type": "execute_result"
    }
   ],
   "source": [
    "l = [1,2,5,7,51,24,72,55]\n",
    "[x for x in l if x%2 != 0]"
   ]
  },
  {
   "cell_type": "code",
   "execution_count": 15,
   "id": "a9e97c3e-957f-4f8a-a6ad-9ba871c21a23",
   "metadata": {},
   "outputs": [
    {
     "data": {
      "text/plain": [
       "[48000.0, 60000, 80000, 54000.0]"
      ]
     },
     "execution_count": 15,
     "metadata": {},
     "output_type": "execute_result"
    }
   ],
   "source": [
    "sal = [40000,60000,80000,45000]\n",
    "[(x*1.2 if x <= 50000 else x) for x in sal]"
   ]
  },
  {
   "cell_type": "code",
   "execution_count": 16,
   "id": "74538666-f462-4654-9fc4-8b0214fe52e1",
   "metadata": {},
   "outputs": [
    {
     "data": {
      "text/plain": [
       "{'Ram': 84.75, 'John': 71.5}"
      ]
     },
     "execution_count": 16,
     "metadata": {},
     "output_type": "execute_result"
    }
   ],
   "source": [
    "d1 = {'Ram':[70,71,98,100], 'John':[56,98,67,65]}\n",
    "{k:sum(v)/len(v) for k,v in  d1.items()}"
   ]
  },
  {
   "cell_type": "code",
   "execution_count": 21,
   "id": "ea5d881d-b066-4748-aaa4-eacabba9200f",
   "metadata": {},
   "outputs": [],
   "source": [
    "def given_sum(g_list):\n",
    "    total = sum(g_list)\n",
    "    avg_value = total/len(g_list)\n",
    "    return avg_value\n",
    "    "
   ]
  },
  {
   "cell_type": "code",
   "execution_count": 22,
   "id": "22d56ba3-812c-4d95-9dc9-e16ce73d0203",
   "metadata": {},
   "outputs": [
    {
     "data": {
      "text/plain": [
       "8.5"
      ]
     },
     "execution_count": 22,
     "metadata": {},
     "output_type": "execute_result"
    }
   ],
   "source": [
    "k = [1,2,3,4,5,6,7,8,9,40]\n",
    "given_sum(k)"
   ]
  },
  {
   "cell_type": "code",
   "execution_count": 27,
   "id": "594a3db2-9158-4935-917b-b5960ac1b7ff",
   "metadata": {},
   "outputs": [],
   "source": [
    "def mrng(k):\n",
    "    print(f\"Good morning {k}!\")"
   ]
  },
  {
   "cell_type": "code",
   "execution_count": 28,
   "id": "bc01d0db-3aeb-4106-ba68-03968bf7b2b5",
   "metadata": {},
   "outputs": [
    {
     "name": "stdout",
     "output_type": "stream",
     "text": [
      "Good morning Karthik!\n"
     ]
    }
   ],
   "source": [
    "mrng(\"Karthik\")"
   ]
  },
  {
   "cell_type": "code",
   "execution_count": 29,
   "id": "d1992d9a-3abd-42f3-b053-3b8927ee0805",
   "metadata": {},
   "outputs": [],
   "source": [
    "def gym(a):\n",
    "    print(f\"Are uh in the gym {a}??\")"
   ]
  },
  {
   "cell_type": "code",
   "execution_count": 30,
   "id": "a572c3d4-1932-4df8-94e3-85f77b154972",
   "metadata": {},
   "outputs": [
    {
     "name": "stdout",
     "output_type": "stream",
     "text": [
      "Are uh in the gym Karthik??\n"
     ]
    }
   ],
   "source": [
    "gym(\"Karthik\")"
   ]
  },
  {
   "cell_type": "code",
   "execution_count": 31,
   "id": "769f2050-b0fd-4a98-a8c1-f02266fd2f30",
   "metadata": {},
   "outputs": [],
   "source": [
    "def avg_value(*n):\n",
    "    l = len(n)\n",
    "    avg = sum(n)/l\n",
    "    return avg"
   ]
  },
  {
   "cell_type": "code",
   "execution_count": 35,
   "id": "a76d2bd6-f552-429d-981d-0dc7ba88972e",
   "metadata": {},
   "outputs": [
    {
     "data": {
      "text/plain": [
       "23.333333333333332"
      ]
     },
     "execution_count": 35,
     "metadata": {},
     "output_type": "execute_result"
    }
   ],
   "source": [
    "avg_value(10,55,20,5,45,5)"
   ]
  },
  {
   "cell_type": "code",
   "execution_count": null,
   "id": "0e606d25-533e-46ab-b37a-b33aad884214",
   "metadata": {},
   "outputs": [],
   "source": []
  }
 ],
 "metadata": {
  "kernelspec": {
   "display_name": "Python 3 (ipykernel)",
   "language": "python",
   "name": "python3"
  },
  "language_info": {
   "codemirror_mode": {
    "name": "ipython",
    "version": 3
   },
   "file_extension": ".py",
   "mimetype": "text/x-python",
   "name": "python",
   "nbconvert_exporter": "python",
   "pygments_lexer": "ipython3",
   "version": "3.12.7"
  }
 },
 "nbformat": 4,
 "nbformat_minor": 5
}
